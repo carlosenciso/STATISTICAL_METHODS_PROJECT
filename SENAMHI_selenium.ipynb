{
 "cells": [
  {
   "cell_type": "code",
   "execution_count": 1,
   "metadata": {},
   "outputs": [],
   "source": [
    "import pandas as pd\n",
    "from bs4 import BeautifulSoup\n",
    "from selenium import webdriver\n",
    "from selenium.webdriver.common.by import By\n",
    "from selenium.webdriver.support.ui import WebDriverWait\n",
    "from selenium.webdriver.support import expected_conditions as EC\n",
    "from ast import literal_eval"
   ]
  },
  {
   "cell_type": "code",
   "execution_count": 2,
   "metadata": {},
   "outputs": [],
   "source": [
    "def load_driver():\n",
    "    options = webdriver.ChromeOptions()\n",
    "    options.add_argument(\"headless\")\n",
    "    \n",
    "    driver = webdriver.Chrome(chrome_options=options)\n",
    "    return driver\n",
    "\n",
    "def load_url(driver,url,to_find,by,ref,_type=False,name='main'):\n",
    "    driver.get(url)\n",
    "    try:\n",
    "        WebDriverWait(driver,10).until(EC.presence_of_element_located((by,ref)))\n",
    "    except:\n",
    "        driver.implicitly_wait(10)\n",
    "    source = BeautifulSoup(driver.page_source,'lxml')\n",
    "    if _type:\n",
    "        search = source.findAll(to_find,type=_type)\n",
    "    else:\n",
    "        search = source.findAll(to_find)\n",
    "    return search"
   ]
  },
  {
   "cell_type": "code",
   "execution_count": 3,
   "metadata": {},
   "outputs": [],
   "source": [
    "def parse_data(js_body):\n",
    "    ix = js_body.find('ubica0')\n",
    "    info = js_body[ix:-6].split('var')\n",
    "    \n",
    "    df = pd.DataFrame(columns=['Estacion', 'Latitud', 'Longitud', 'Altitud',\\\n",
    "                               'Departamento', 'Provincia', 'Distrito',\\\n",
    "                               'Codigo', 'Tipo', 'Tecnologia' ,'Estado'],\\\n",
    "                        index = range(len(info)))\n",
    "    \n",
    "    for num,line in enumerate(info):\n",
    "        dummy = line.split(';',1)\n",
    "        lat,lon = literal_eval(dummy[0][dummy[0].find('('):dummy[0].find(')')+1])\n",
    "        \n",
    "        meta =  [dat_str.replace(\"'\",\"\") for dat_str in dummy[1][28:-3].split(',')]\n",
    "        \n",
    "        df.loc[num]=pd.Series({'Estacion':meta[1].split('-')[0], 'Latitud':lat, 'Longitud':lon,\\\n",
    "              'Departamento':meta[6], 'Provincia':meta[7], 'Distrito':meta[8],\\\n",
    "              'Codigo':meta[9], 'Tipo':meta[10], 'Tecnologia':meta[2],'Estado':meta[11]})\n",
    "    return df"
   ]
  },
  {
   "cell_type": "code",
   "execution_count": 5,
   "metadata": {},
   "outputs": [],
   "source": [
    "def get_url(code):\n",
    "    base_url = 'http://www.senamhi.gob.pe/include_mapas/_dat_esta_tipo.php?estaciones={}'\n",
    "    return base_url.format(code)\n",
    "\n",
    "def get_altitude(driver,est_data):\n",
    "    codes = est_data['Codigo'].copy()\n",
    "    codes = codes.apply(get_url)\n",
    "\n",
    "    for num,row in enumerate(codes):\n",
    "        while True:\n",
    "            try:\n",
    "                search = load_url(driver,row,'td',By.ID,'estaciones', name='{}_{}'.format(num\\\n",
    "                                        ,est_data.loc[num][0].lower().encode('utf8')\\\n",
    "                                          .replace('\\xc3','n').replace('\\xb1a','a')))\n",
    "                est_data.loc[num][3]=float(search[14].text.replace(\"'\",\"\"))\n",
    "                print('Done {}'.format(num))\n",
    "                break\n",
    "            except:\n",
    "                print('Failed ... Retrying')\n",
    "    return est_data"
   ]
  },
  {
   "cell_type": "code",
   "execution_count": 11,
   "metadata": {},
   "outputs": [
    {
     "name": "stderr",
     "output_type": "stream",
     "text": [
      "/media/carlos/DATA/anaconda3/envs/py37/lib/python3.6/site-packages/ipykernel_launcher.py:5: DeprecationWarning: use options instead of chrome_options\n",
      "  \"\"\"\n"
     ]
    },
    {
     "name": "stdout",
     "output_type": "stream",
     "text": [
      "Loading https://www.senamhi.gob.pe/mapas/mapa-estaciones/_dat_esta_tipo.php?estaciones=000478\n",
      "Done\n",
      "\n"
     ]
    },
    {
     "ename": "IndexError",
     "evalue": "list index out of range",
     "output_type": "error",
     "traceback": [
      "\u001b[0;31m---------------------------------------------------------------------------\u001b[0m",
      "\u001b[0;31mIndexError\u001b[0m                                Traceback (most recent call last)",
      "\u001b[0;32m<ipython-input-11-05c9d0b38e35>\u001b[0m in \u001b[0;36m<module>\u001b[0;34m\u001b[0m\n\u001b[1;32m      5\u001b[0m     \u001b[0mscript_data\u001b[0m \u001b[0;34m=\u001b[0m \u001b[0mload_url\u001b[0m\u001b[0;34m(\u001b[0m\u001b[0mdriver\u001b[0m\u001b[0;34m,\u001b[0m\u001b[0mmap_est\u001b[0m\u001b[0;34m,\u001b[0m\u001b[0;34m'script'\u001b[0m\u001b[0;34m,\u001b[0m\u001b[0mBy\u001b[0m\u001b[0;34m.\u001b[0m\u001b[0mCLASS_NAME\u001b[0m\u001b[0;34m,\u001b[0m\u001b[0;34m'gm-style-mtc'\u001b[0m\u001b[0;34m,\u001b[0m\u001b[0m_type\u001b[0m\u001b[0;34m=\u001b[0m\u001b[0;34m'text/javascript'\u001b[0m\u001b[0;34m)\u001b[0m\u001b[0;34m\u001b[0m\u001b[0;34m\u001b[0m\u001b[0m\n\u001b[1;32m      6\u001b[0m     \u001b[0mprint\u001b[0m\u001b[0;34m(\u001b[0m\u001b[0;34m'Done\\n'\u001b[0m\u001b[0;34m)\u001b[0m\u001b[0;34m\u001b[0m\u001b[0;34m\u001b[0m\u001b[0m\n\u001b[0;32m----> 7\u001b[0;31m     \u001b[0mraw_data\u001b[0m \u001b[0;34m=\u001b[0m \u001b[0mscript_data\u001b[0m\u001b[0;34m[\u001b[0m\u001b[0;36m1\u001b[0m\u001b[0;34m]\u001b[0m\u001b[0;34m.\u001b[0m\u001b[0mtext\u001b[0m\u001b[0;34m\u001b[0m\u001b[0;34m\u001b[0m\u001b[0m\n\u001b[0m\u001b[1;32m      8\u001b[0m     \u001b[0mest_data\u001b[0m \u001b[0;34m=\u001b[0m \u001b[0mparse_data\u001b[0m\u001b[0;34m(\u001b[0m\u001b[0mraw_data\u001b[0m\u001b[0;34m)\u001b[0m\u001b[0;34m\u001b[0m\u001b[0;34m\u001b[0m\u001b[0m\n\u001b[1;32m      9\u001b[0m     \u001b[0mprint\u001b[0m\u001b[0;34m(\u001b[0m\u001b[0;34m'Getting altitudes'\u001b[0m\u001b[0;34m)\u001b[0m\u001b[0;34m\u001b[0m\u001b[0;34m\u001b[0m\u001b[0m\n",
      "\u001b[0;31mIndexError\u001b[0m: list index out of range"
     ]
    }
   ],
   "source": [
    "if __name__ == '__main__':\n",
    "    map_est = \"https://www.senamhi.gob.pe/mapas/mapa-estaciones/_dat_esta_tipo.php?estaciones=000478\"\n",
    "    driver = load_driver()\n",
    "    print('Loading {}'.format(map_est))\n",
    "    script_data = load_url(driver,map_est,'script',By.CLASS_NAME,'gm-style-mtc',_type='text/javascript')\n",
    "    print('Done\\n')\n",
    "    raw_data = script_data[1].text\n",
    "    est_data = parse_data(raw_data)\n",
    "    print('Getting altitudes')\n",
    "    est_data = get_altitude(driver,est_data)\n",
    "    print('Done')\n",
    "    driver.quit()\n",
    "    est_data2 = est_data.copy()\n",
    "    writer = pd.ExcelWriter('estaciones_senamhi.xlsx')\n",
    "    est_data2.to_excel(writer,'Estaciones_Senamhi',index=None)\n",
    "    writer.save()"
   ]
  },
  {
   "cell_type": "code",
   "execution_count": null,
   "metadata": {},
   "outputs": [],
   "source": []
  }
 ],
 "metadata": {
  "kernelspec": {
   "display_name": "py37",
   "language": "python",
   "name": "py37"
  },
  "language_info": {
   "codemirror_mode": {
    "name": "ipython",
    "version": 3
   },
   "file_extension": ".py",
   "mimetype": "text/x-python",
   "name": "python",
   "nbconvert_exporter": "python",
   "pygments_lexer": "ipython3",
   "version": "3.6.7"
  }
 },
 "nbformat": 4,
 "nbformat_minor": 2
}
